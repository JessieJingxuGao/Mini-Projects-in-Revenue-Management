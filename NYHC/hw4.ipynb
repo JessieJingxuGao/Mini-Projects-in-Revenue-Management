{
 "cells": [
  {
   "cell_type": "code",
   "execution_count": 1,
   "metadata": {
    "collapsed": false
   },
   "outputs": [
    {
     "data": {
      "application/javascript": [
       "IPython.notebook.set_autosave_interval(60000)"
      ]
     },
     "metadata": {},
     "output_type": "display_data"
    },
    {
     "name": "stdout",
     "output_type": "stream",
     "text": [
      "Autosaving every 60 seconds\n"
     ]
    }
   ],
   "source": [
    "%autosave 60\n",
    "#auto save this ipynb file every 60 seconds as checkpoints\n",
    "%matplotlib inline  "
   ]
  },
  {
   "cell_type": "code",
   "execution_count": 155,
   "metadata": {
    "collapsed": true
   },
   "outputs": [],
   "source": [
    "import pandas as pd\n",
    "import numpy as np\n",
    "import matplotlib.pyplot as plt\n",
    "# from sklearn import linear_model\n",
    "from scipy import stats"
   ]
  },
  {
   "cell_type": "markdown",
   "metadata": {},
   "source": [
    "# The empirical demand curve for a single session"
   ]
  },
  {
   "cell_type": "markdown",
   "metadata": {},
   "source": [
    "### Input WTP data for student and non-student"
   ]
  },
  {
   "cell_type": "code",
   "execution_count": 36,
   "metadata": {
    "collapsed": false
   },
   "outputs": [
    {
     "data": {
      "text/plain": [
       "array([ 25,  25,  25,  25,  25,  25,  25,  25,  50,  50,  50,  50,  50,\n",
       "        50,  50,  50,  50,  50,  75,  75,  75,  75,  75,  75,  75,  75,\n",
       "        75,  75,  75,  75,  75, 100, 125])"
      ]
     },
     "execution_count": 36,
     "metadata": {},
     "output_type": "execute_result"
    }
   ],
   "source": [
    "# from excel where we generate the max WTP over all time slots for each client\n",
    "df = pd.read_clipboard(header=None) \n",
    "numpyMatrix = df.as_matrix()\n",
    "wtp_student = numpyMatrix\n",
    "wtp_student = wtp_student.T # was a column in excel\n",
    "wtp_student = wtp_student[0] # array([[ 75,...,25]])\n",
    "wtp_student"
   ]
  },
  {
   "cell_type": "code",
   "execution_count": 98,
   "metadata": {
    "collapsed": false
   },
   "outputs": [
    {
     "data": {
      "text/plain": [
       "array([ 75,  50,  75,  75, 100, 100,  50, 150,  25, 125, 125,  25,  50,\n",
       "        75, 100,  50, 125, 100,  25,  75, 100,  50,  75,  50,  75,  50,\n",
       "       100,  75, 100,  75,  50,  25,  50, 125, 100,  25,  75, 100,  75,\n",
       "       100, 100,  50,  75,  75,  50,  75,  75,  50,  25, 100, 125,  50,\n",
       "       125,  75, 125,  75,  25,  75,  75,  75, 100,  25, 100, 100, 100,\n",
       "       100,  75, 100, 100,  75, 125,  75,  75,  50,  75,  75,  75, 100,\n",
       "        50, 100])"
      ]
     },
     "execution_count": 98,
     "metadata": {},
     "output_type": "execute_result"
    }
   ],
   "source": [
    "# from excel where we generate the max WTP over all time slots for each client\n",
    "df = pd.read_clipboard(header=None) \n",
    "numpyMatrix = df.as_matrix()\n",
    "wtp_nonstudent = numpyMatrix\n",
    "wtp_nonstudent = wtp_nonstudent.T # was a column in excel\n",
    "wtp_nonstudent = wtp_nonstudent[0] # array([[ 75,...,25]])\n",
    "wtp_nonstudent"
   ]
  },
  {
   "cell_type": "markdown",
   "metadata": {},
   "source": [
    "### Plot demand curves"
   ]
  },
  {
   "cell_type": "code",
   "execution_count": 121,
   "metadata": {
    "collapsed": false,
    "scrolled": false
   },
   "outputs": [],
   "source": [
    "def array_reserve(x):\n",
    "        temp=[]\n",
    "        for index in range(len(x)-1,0-1,-1):\n",
    "            temp.append(x[index])\n",
    "        return np.array(temp)\n",
    "\n",
    "def wtp_binning(data):\n",
    "    # Choose how many bins (defiend by num_bins or bin-edgs sequence inluding the rightmost)\n",
    "    seq_bins = np.arange(min(data)-1,max(data)+2,1) # +1 for range doesn't include right threshold & +1 for rightmost value set as max+1 (https://docs.scipy.org/doc/numpy-1.10.1/reference/generated/numpy.histogram.html)\n",
    "        # gap is defined as integer gap, and here one integer occurance is regarded as one bin --- bin_edges is [,) \n",
    "\n",
    "    # Use the histogram function to bin the data\n",
    "    counts, bin_edges = np.histogram(data, bins=seq_bins, normed=True)\n",
    "        # norm: If False, the result will contain the number of samples in each bin. \n",
    "            # If True, the result is the value of the probability density function at the bin, normalized such that the integral over the range is 1\n",
    "        # print(counts) #  [0.  0.24242424  0. ... 0.03030303.]   len=102\n",
    "        # print(bin_edges) # [24. 25. 26. ... 126.]    len=103\n",
    "    # print(\"original bin_counts\\n\",counts)\n",
    "\n",
    "    # Now find the reserved_cdf = 1-p(X<x)\n",
    "        # for each price p, the fraction of people who would buy at price p or higher rather than lower  \n",
    "    reserved_counts = array_reserve(counts) \n",
    "    sum_from_right = np.cumsum(reserved_counts) \n",
    "        # np.cumsum: Return the cumulative sum of the elements along a given axis. (https://docs.scipy.org/doc/numpy/reference/generated/numpy.cumsum.html)\n",
    "            # 1,2,3 -> 1,3,6\n",
    "    # print(\"sum_from_right\\n\",sum_from_right)\n",
    "\n",
    "\n",
    "    reserved_cdf = array_reserve(sum_from_right)\n",
    "    # print(\"reserved_cdf\\n\",reserved_cdf)\n",
    "\n",
    "\n",
    "    # hope the proportion to buy drops to 0 rather than 0.03\n",
    "    temp=list(reserved_cdf)\n",
    "    temp.append(0)\n",
    "    reserved_cdf_full = np.array(temp)\n",
    "    # print(reserved_cdf_full)\n",
    "    # print(len(reserved_cdf_full)) # 103\n",
    "\n",
    "    x_data = bin_edges\n",
    "    y_data = reserved_cdf_full \n",
    "    \n",
    "    result =[]\n",
    "    result.append(x_data)\n",
    "    result.append(y_data)\n",
    "    return result\n",
    "\n",
    "\n",
    "def demand_line_plot(demand_line_data,plot_name):\n",
    "    x_data= wtp_binning(demand_line_data)[0]\n",
    "    y_data= wtp_binning(demand_line_data)[1]\n",
    "    # And finally plot the demand curve\n",
    "    # line plot\n",
    "    plt.plot(x_data,y_data)\n",
    "    plt.title(plot_name)\n",
    "    plt.xlabel('Price($)')\n",
    "    plt.ylabel('Probabilty to buy(%)')\n",
    "    plt.grid(True)\n",
    "    plt.show()\n",
    "\n",
    "# demand_line_plot(wtp_student,'WTP curve for student')\n",
    "# demand_line_plot(wtp_nonstudent,'WTP curve for nonstudent')"
   ]
  },
  {
   "cell_type": "code",
   "execution_count": 126,
   "metadata": {
    "collapsed": false
   },
   "outputs": [
    {
     "data": {
      "image/png": "[encoded data removed]",
      "text/plain": [
       "<matplotlib.figure.Figure at 0x115ef7128>"
      ]
     },
     "metadata": {},
     "output_type": "display_data"
    },
    {
     "data": {
      "text/plain": [
       "[[25, 50, 75, 100, 125],\n",
       " [1.0,\n",
       "  0.75757575757575757,\n",
       "  0.45454545454545453,\n",
       "  0.060606060606060608,\n",
       "  0.030303030303030304]]"
      ]
     },
     "execution_count": 126,
     "metadata": {},
     "output_type": "execute_result"
    }
   ],
   "source": [
    "def demand_scatter_plot(demand_scatter_data,plot_name):\n",
    "    \n",
    "    reserved_cdf_full = wtp_binning(demand_scatter_data)[1]\n",
    "    bin_edges = wtp_binning(demand_scatter_data)[0]\n",
    "    \n",
    "    data = demand_scatter_data\n",
    "    # hope to get rid of influence of missing values like 26,27,... due to pricing gap \n",
    "    # - this is a special case for integer price \n",
    "\n",
    "    # use dictionary to find unique values in the data \n",
    "    # - if price is not always integer, we should compare data points and all bin_edges and see where to put that points\n",
    "    unique={}\n",
    "    for item in data:\n",
    "        if item in unique:\n",
    "            unique[item] += 1\n",
    "        else: unique[item] = 1\n",
    "\n",
    "    # use dictionary to query\n",
    "    dict={}\n",
    "    for i in range(len(reserved_cdf_full)):\n",
    "        dict[bin_edges[i]] = reserved_cdf_full[i]\n",
    "\n",
    "    x_data=[]\n",
    "    y_data=[]\n",
    "    for item in dict:\n",
    "        if item in data:\n",
    "            x_data.append(item)\n",
    "            y_data.append(dict[item] )\n",
    "\n",
    "    if __name__ == '__main__' :\n",
    "        # scatter plot\n",
    "        plt.scatter(x_data,y_data)\n",
    "        plt.title(plot_name)\n",
    "        plt.xlabel('Price($)')\n",
    "        plt.ylabel('Probabilty to buy(%)')\n",
    "        plt.grid(True)\n",
    "        plt.show()\n",
    "    \n",
    "    result=[]\n",
    "    result.append(x_data)\n",
    "    result.append(y_data)\n",
    "    return result\n",
    "    \n",
    "\n",
    "demand_scatter_plot(wtp_student,'WTP curve for student')"
   ]
  },
  {
   "cell_type": "code",
   "execution_count": 127,
   "metadata": {
    "collapsed": false
   },
   "outputs": [
    {
     "data": {
      "image/png": "[encoded data removed]",
      "text/plain": [
       "<matplotlib.figure.Figure at 0x1155d0b00>"
      ]
     },
     "metadata": {},
     "output_type": "display_data"
    },
    {
     "data": {
      "text/plain": [
       "[[25, 50, 75, 100, 125, 150],\n",
       " [1.0,\n",
       "  0.90000000000000002,\n",
       "  0.71250000000000002,\n",
       "  0.375,\n",
       "  0.1125,\n",
       "  0.012500000000000001]]"
      ]
     },
     "execution_count": 127,
     "metadata": {},
     "output_type": "execute_result"
    }
   ],
   "source": [
    "demand_scatter_plot(wtp_nonstudent,'WTP curve for nonstudent')"
   ]
  },
  {
   "cell_type": "code",
   "execution_count": 132,
   "metadata": {
    "collapsed": false
   },
   "outputs": [
    {
     "data": {
      "image/png": "[encoded data removed]",
      "text/plain": [
       "<matplotlib.figure.Figure at 0x1155c8f28>"
      ]
     },
     "metadata": {},
     "output_type": "display_data"
    },
    {
     "name": "stdout",
     "output_type": "stream",
     "text": [
      "[25, 50, 75, 100, 125, 150]\n",
      "[1.0, 0.8584070796460177, 0.63716814159292035, 0.2831858407079646, 0.088495575221238937, 0.0088495575221238937]\n"
     ]
    }
   ],
   "source": [
    "wtp_all=[]\n",
    "for item in list(wtp_student):\n",
    "    wtp_all.append(item)\n",
    "for item in list(wtp_nonstudent):\n",
    "    wtp_all.append(item)\n",
    "# print(len(wtp_all),len(wtp_student),len(wtp_nonstudent)) # 113 33 80\n",
    "\n",
    "\n",
    "temp = demand_scatter_plot(wtp_all,'WTP curve for both students and nonstudents')\n",
    "\n",
    "price_set = temp[0]\n",
    "prob_set = temp[1]\n",
    "print(price_set)\n",
    "print(prob_set)\n",
    "# demand_scatter_plot(wtp_all,'WTP curve for both students and nonstudents')"
   ]
  },
  {
   "cell_type": "markdown",
   "metadata": {},
   "source": [
    "??? name=main doesn't work for cells"
   ]
  },
  {
   "cell_type": "markdown",
   "metadata": {},
   "source": [
    "###  Find optimal flat-price by maxing revenue \n",
    "###  -nonparametric (aggregated date of students and non-students) "
   ]
  },
  {
   "cell_type": "code",
   "execution_count": 149,
   "metadata": {
    "collapsed": false
   },
   "outputs": [
    {
     "name": "stdout",
     "output_type": "stream",
     "text": [
      "When the willingness to pay curve is:\n",
      "{50: 0.8584070796460177, 100: 0.2831858407079646, 150: 0.0088495575221238937, 25: 1.0, 75: 0.63716814159292035, 125: 0.088495575221238937}\n",
      "the optimal flat price is  75\n",
      "and the corresponding maximum revenue is 47.7876106195\n"
     ]
    }
   ],
   "source": [
    "wtp={} # wtp[price]=demand \n",
    "\n",
    "for i in range(len(price_set)):\n",
    "    wtp[price_set[i]]=prob_set[i]\n",
    "\n",
    "def optimal_flat_price(wtp_data):    \n",
    "    max_revenue = 0\n",
    "    optimal_price = 0\n",
    "    revenue={}\n",
    "    for item in wtp_data:\n",
    "        revenue[item]=wtp_data[item]*item\n",
    "    for item in revenue:\n",
    "        if max_revenue < revenue[item]:\n",
    "            max_revenue = revenue[item]\n",
    "            optimal_price = item\n",
    "    result=[]\n",
    "    result.append(max_revenue)\n",
    "    result.append(optimal_price)\n",
    "    return result\n",
    "\n",
    "print(\"When the willingness to pay curve is:\")\n",
    "print(wtp)\n",
    "print(\"the optimal flat price is \",optimal_flat_price (wtp)[1])\n",
    "print(\"and the corresponding maximum revenue is\", optimal_flat_price (wtp)[0])"
   ]
  },
  {
   "cell_type": "markdown",
   "metadata": {
    "collapsed": false
   },
   "source": [
    "###  Find optimal flat-price by maxing revenue \n",
    "###  -parametric (fitting wtp curve by linear regression) "
   ]
  },
  {
   "cell_type": "code",
   "execution_count": 161,
   "metadata": {
    "collapsed": false
   },
   "outputs": [
    {
     "data": {
      "image/png": "[encoded data removed]",
      "text/plain": [
       "<matplotlib.figure.Figure at 0x104264710>"
      ]
     },
     "metadata": {},
     "output_type": "display_data"
    },
    {
     "name": "stdout",
     "output_type": "stream",
     "text": [
      "slope= -0.00870796460177 intercept= 1.2412979351\n",
      "r-squared: 0.973119745164\n",
      "residual_std_error 0.0756796719364\n"
     ]
    }
   ],
   "source": [
    "x = np.array(price_set)\n",
    "y = np.array(prob_set)\n",
    "\n",
    "# fit the model\n",
    "slope, intercept, r_value, p_value, std_err = stats.linregress(x,y)\n",
    "\n",
    "# Calculate some additional outputs\n",
    "predict_y = intercept + slope * x\n",
    "pred_error = y - predict_y\n",
    "degrees_of_freedom = len(x) - 2\n",
    "residual_std_error = np.sqrt(np.sum(pred_error**2) / degrees_of_freedom)\n",
    "\n",
    "# Plotting\n",
    "if __name__ == '__main__' :\n",
    "    # scatter plot\n",
    "    plt.scatter(x,y)\n",
    "    plt.plot(x, predict_y, c='r')\n",
    "    plt.title(\"linear regression on WTP curve\")\n",
    "    plt.xlabel('Price($)')\n",
    "    plt.ylabel('Probabilty to buy(%)')\n",
    "    plt.grid(True)\n",
    "    plt.show()\n",
    "\n",
    "plt.show()\n",
    "\n",
    "print(\"slope=\",slope, \"intercept=\",intercept)\n",
    "print (\"r-squared:\", r_value**2)\n",
    "print(\"residual_std_error\",residual_std_error)"
   ]
  },
  {
   "cell_type": "code",
   "execution_count": 170,
   "metadata": {
    "collapsed": false
   },
   "outputs": [
    {
     "name": "stdout",
     "output_type": "stream",
     "text": [
      "When the willingness to pay curve is:\n",
      "linear with slope= -0.00870796460177 intercept= 1.2412979351\n",
      "the optimal flat price is  71.27\n",
      "and the corresponding maximum revenue is 44.2359561038\n"
     ]
    }
   ],
   "source": [
    "wtp={} # wtp[price]=demand \n",
    "temp = range(   100*min(wtp_all)-1   ,   100*max(wtp_all)+2     )\n",
    "price = list(temp)\n",
    "price = np.array(price)/100\n",
    "\n",
    "predict_prob = intercept + slope * price\n",
    "\n",
    "for i in range(len(price)):\n",
    "    wtp[price[i]]=predict_prob[i]\n",
    "\n",
    "print(\"When the willingness to pay curve is:\")\n",
    "print(\"linear with\", \"slope=\",slope, \"intercept=\",intercept)\n",
    "print(\"the optimal flat price is \",optimal_flat_price (wtp)[1])\n",
    "print(\"and the corresponding maximum revenue is\", optimal_flat_price (wtp)[0])"
   ]
  },
  {
   "cell_type": "code",
   "execution_count": 166,
   "metadata": {
    "collapsed": false
   },
   "outputs": [
    {
     "ename": "TypeError",
     "evalue": "'float' object cannot be interpreted as an integer",
     "output_type": "error",
     "traceback": [
      "\u001b[0;31m---------------------------------------------------------------------------\u001b[0m",
      "\u001b[0;31mTypeError\u001b[0m                                 Traceback (most recent call last)",
      "\u001b[0;32m<ipython-input-166-32951b1bac00>\u001b[0m in \u001b[0;36m<module>\u001b[0;34m()\u001b[0m\n\u001b[0;32m----> 1\u001b[0;31m \u001b[0ma\u001b[0m \u001b[0;34m=\u001b[0m \u001b[0mrange\u001b[0m\u001b[0;34m(\u001b[0m\u001b[0mmin\u001b[0m\u001b[0;34m(\u001b[0m\u001b[0mwtp_all\u001b[0m\u001b[0;34m)\u001b[0m\u001b[0;34m-\u001b[0m\u001b[0;36m1\u001b[0m\u001b[0;34m,\u001b[0m\u001b[0mmax\u001b[0m\u001b[0;34m(\u001b[0m\u001b[0mwtp_all\u001b[0m\u001b[0;34m)\u001b[0m\u001b[0;34m+\u001b[0m\u001b[0;36m2\u001b[0m\u001b[0;34m,\u001b[0m\u001b[0;36m0.05\u001b[0m\u001b[0;34m)\u001b[0m\u001b[0;34m\u001b[0m\u001b[0m\n\u001b[0m\u001b[1;32m      2\u001b[0m \u001b[0ma\u001b[0m\u001b[0;34m\u001b[0m\u001b[0m\n",
      "\u001b[0;31mTypeError\u001b[0m: 'float' object cannot be interpreted as an integer"
     ]
    }
   ],
   "source": [
    "a = range(min(wtp_all)-1,max(wtp_all)+2,0.05)\n",
    "a"
   ]
  },
  {
   "cell_type": "code",
   "execution_count": null,
   "metadata": {
    "collapsed": true
   },
   "outputs": [],
   "source": []
  },
  {
   "cell_type": "code",
   "execution_count": null,
   "metadata": {
    "collapsed": true
   },
   "outputs": [],
   "source": []
  },
  {
   "cell_type": "code",
   "execution_count": null,
   "metadata": {
    "collapsed": true
   },
   "outputs": [],
   "source": []
  },
  {
   "cell_type": "code",
   "execution_count": null,
   "metadata": {
    "collapsed": true
   },
   "outputs": [],
   "source": []
  },
  {
   "cell_type": "markdown",
   "metadata": {},
   "source": [
    "not sure what's wrong with the dataset \n",
    "maybe sklean dataset transformation is needed...\n",
    "http://scikit-learn.org/stable/auto_examples/linear_model/plot_ols.html"
   ]
  },
  {
   "cell_type": "code",
   "execution_count": 154,
   "metadata": {
    "collapsed": false
   },
   "outputs": [
    {
     "name": "stderr",
     "output_type": "stream",
     "text": [
      "/Users/Jessie/anaconda/lib/python3.5/site-packages/sklearn/utils/validation.py:386: DeprecationWarning: Passing 1d arrays as data is deprecated in 0.17 and willraise ValueError in 0.19. Reshape your data either using X.reshape(-1, 1) if your data has a single feature or X.reshape(1, -1) if it contains a single sample.\n",
      "  DeprecationWarning)\n"
     ]
    },
    {
     "ename": "ValueError",
     "evalue": "Found arrays with inconsistent numbers of samples: [1 6]",
     "output_type": "error",
     "traceback": [
      "\u001b[0;31m---------------------------------------------------------------------------\u001b[0m",
      "\u001b[0;31mValueError\u001b[0m                                Traceback (most recent call last)",
      "\u001b[0;32m<ipython-input-154-b0ea3a36be22>\u001b[0m in \u001b[0;36m<module>\u001b[0;34m()\u001b[0m\n\u001b[1;32m      7\u001b[0m \u001b[0;34m\u001b[0m\u001b[0m\n\u001b[1;32m      8\u001b[0m \u001b[0;31m# Train the model using the training sets - there is no testing/prediction needed here\u001b[0m\u001b[0;34m\u001b[0m\u001b[0;34m\u001b[0m\u001b[0m\n\u001b[0;32m----> 9\u001b[0;31m \u001b[0mregr\u001b[0m\u001b[0;34m.\u001b[0m\u001b[0mfit\u001b[0m\u001b[0;34m(\u001b[0m\u001b[0mprice_set\u001b[0m\u001b[0;34m,\u001b[0m \u001b[0mprob_set\u001b[0m\u001b[0;34m)\u001b[0m\u001b[0;34m\u001b[0m\u001b[0m\n\u001b[0m\u001b[1;32m     10\u001b[0m \u001b[0;34m\u001b[0m\u001b[0m\n\u001b[1;32m     11\u001b[0m \u001b[0;31m# The coefficients\u001b[0m\u001b[0;34m\u001b[0m\u001b[0;34m\u001b[0m\u001b[0m\n",
      "\u001b[0;32m/Users/Jessie/anaconda/lib/python3.5/site-packages/sklearn/linear_model/base.py\u001b[0m in \u001b[0;36mfit\u001b[0;34m(self, X, y, sample_weight)\u001b[0m\n\u001b[1;32m    425\u001b[0m         \u001b[0mn_jobs_\u001b[0m \u001b[0;34m=\u001b[0m \u001b[0mself\u001b[0m\u001b[0;34m.\u001b[0m\u001b[0mn_jobs\u001b[0m\u001b[0;34m\u001b[0m\u001b[0m\n\u001b[1;32m    426\u001b[0m         X, y = check_X_y(X, y, accept_sparse=['csr', 'csc', 'coo'],\n\u001b[0;32m--> 427\u001b[0;31m                          y_numeric=True, multi_output=True)\n\u001b[0m\u001b[1;32m    428\u001b[0m \u001b[0;34m\u001b[0m\u001b[0m\n\u001b[1;32m    429\u001b[0m         \u001b[0;32mif\u001b[0m \u001b[0;34m(\u001b[0m\u001b[0;34m(\u001b[0m\u001b[0msample_weight\u001b[0m \u001b[0;32mis\u001b[0m \u001b[0;32mnot\u001b[0m \u001b[0;32mNone\u001b[0m\u001b[0;34m)\u001b[0m \u001b[0;32mand\u001b[0m \u001b[0mnp\u001b[0m\u001b[0;34m.\u001b[0m\u001b[0matleast_1d\u001b[0m\u001b[0;34m(\u001b[0m\u001b[0msample_weight\u001b[0m\u001b[0;34m)\u001b[0m\u001b[0;34m.\u001b[0m\u001b[0mndim\u001b[0m \u001b[0;34m>\u001b[0m \u001b[0;36m1\u001b[0m\u001b[0;34m)\u001b[0m\u001b[0;34m:\u001b[0m\u001b[0;34m\u001b[0m\u001b[0m\n",
      "\u001b[0;32m/Users/Jessie/anaconda/lib/python3.5/site-packages/sklearn/utils/validation.py\u001b[0m in \u001b[0;36mcheck_X_y\u001b[0;34m(X, y, accept_sparse, dtype, order, copy, force_all_finite, ensure_2d, allow_nd, multi_output, ensure_min_samples, ensure_min_features, y_numeric, warn_on_dtype, estimator)\u001b[0m\n\u001b[1;32m    518\u001b[0m         \u001b[0my\u001b[0m \u001b[0;34m=\u001b[0m \u001b[0my\u001b[0m\u001b[0;34m.\u001b[0m\u001b[0mastype\u001b[0m\u001b[0;34m(\u001b[0m\u001b[0mnp\u001b[0m\u001b[0;34m.\u001b[0m\u001b[0mfloat64\u001b[0m\u001b[0;34m)\u001b[0m\u001b[0;34m\u001b[0m\u001b[0m\n\u001b[1;32m    519\u001b[0m \u001b[0;34m\u001b[0m\u001b[0m\n\u001b[0;32m--> 520\u001b[0;31m     \u001b[0mcheck_consistent_length\u001b[0m\u001b[0;34m(\u001b[0m\u001b[0mX\u001b[0m\u001b[0;34m,\u001b[0m \u001b[0my\u001b[0m\u001b[0;34m)\u001b[0m\u001b[0;34m\u001b[0m\u001b[0m\n\u001b[0m\u001b[1;32m    521\u001b[0m \u001b[0;34m\u001b[0m\u001b[0m\n\u001b[1;32m    522\u001b[0m     \u001b[0;32mreturn\u001b[0m \u001b[0mX\u001b[0m\u001b[0;34m,\u001b[0m \u001b[0my\u001b[0m\u001b[0;34m\u001b[0m\u001b[0m\n",
      "\u001b[0;32m/Users/Jessie/anaconda/lib/python3.5/site-packages/sklearn/utils/validation.py\u001b[0m in \u001b[0;36mcheck_consistent_length\u001b[0;34m(*arrays)\u001b[0m\n\u001b[1;32m    174\u001b[0m     \u001b[0;32mif\u001b[0m \u001b[0mlen\u001b[0m\u001b[0;34m(\u001b[0m\u001b[0muniques\u001b[0m\u001b[0;34m)\u001b[0m \u001b[0;34m>\u001b[0m \u001b[0;36m1\u001b[0m\u001b[0;34m:\u001b[0m\u001b[0;34m\u001b[0m\u001b[0m\n\u001b[1;32m    175\u001b[0m         raise ValueError(\"Found arrays with inconsistent numbers of samples: \"\n\u001b[0;32m--> 176\u001b[0;31m                          \"%s\" % str(uniques))\n\u001b[0m\u001b[1;32m    177\u001b[0m \u001b[0;34m\u001b[0m\u001b[0m\n\u001b[1;32m    178\u001b[0m \u001b[0;34m\u001b[0m\u001b[0m\n",
      "\u001b[0;31mValueError\u001b[0m: Found arrays with inconsistent numbers of samples: [1 6]"
     ]
    }
   ],
   "source": [
    "# Create linear regression object\n",
    "regr = linear_model.LinearRegression()\n",
    "\n",
    "# Train the model using the training sets - there is no testing/prediction needed here\n",
    "regr.fit(price_set, prob_set)\n",
    "\n",
    "# The coefficients\n",
    "print('Coefficients: \\n', regr.coef_)\n",
    "# The mean squared error\n",
    "print(\"Mean squared error: %.2f\"\n",
    "      % np.mean((regr.predict(price_set) - prob_set) ** 2))\n",
    "# Explained variance score: 1 is perfect prediction\n",
    "print('Variance score: %.2f' % regr.score(price_set, prob_set))\n",
    "\n",
    "# Plot outputs\n",
    "plt.scatter(price_set, prob_set,  color='black')\n",
    "plt.plot(price_set, regr.predict(price_set), color='blue',\n",
    "         linewidth=3)\n",
    "\n",
    "plt.xticks(())\n",
    "plt.yticks(())\n",
    "\n",
    "plt.show()"
   ]
  },
  {
   "cell_type": "code",
   "execution_count": null,
   "metadata": {
    "collapsed": true
   },
   "outputs": [],
   "source": []
  }
 ],
 "metadata": {
  "anaconda-cloud": {},
  "kernelspec": {
   "display_name": "Python [Root]",
   "language": "python",
   "name": "Python [Root]"
  },
  "language_info": {
   "codemirror_mode": {
    "name": "ipython",
    "version": 3
   },
   "file_extension": ".py",
   "mimetype": "text/x-python",
   "name": "python",
   "nbconvert_exporter": "python",
   "pygments_lexer": "ipython3",
   "version": "3.5.2"
  }
 },
 "nbformat": 4,
 "nbformat_minor": 0
}
