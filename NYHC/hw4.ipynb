{
 "cells": [
  {
   "cell_type": "code",
   "execution_count": 1,
   "metadata": {
    "collapsed": false
   },
   "outputs": [
    {
     "data": {
      "application/javascript": [
       "IPython.notebook.set_autosave_interval(60000)"
      ]
     },
     "metadata": {},
     "output_type": "display_data"
    },
    {
     "name": "stdout",
     "output_type": "stream",
     "text": [
      "Autosaving every 60 seconds\n"
     ]
    }
   ],
   "source": [
    "%autosave 60\n",
    "#auto save this ipynb file every 60 seconds as checkpoints\n",
    "%matplotlib inline  "
   ]
  },
  {
   "cell_type": "code",
   "execution_count": 2,
   "metadata": {
    "collapsed": true
   },
   "outputs": [],
   "source": [
    "import pandas as pd\n",
    "import numpy as np\n",
    "import matplotlib.pyplot as plt"
   ]
  },
  {
   "cell_type": "markdown",
   "metadata": {},
   "source": [
    "# The empirical demand curve for a single session"
   ]
  },
  {
   "cell_type": "markdown",
   "metadata": {},
   "source": [
    "### input WTP data for student and non-student"
   ]
  },
  {
   "cell_type": "code",
   "execution_count": 36,
   "metadata": {
    "collapsed": false
   },
   "outputs": [
    {
     "data": {
      "text/plain": [
       "array([ 25,  25,  25,  25,  25,  25,  25,  25,  50,  50,  50,  50,  50,\n",
       "        50,  50,  50,  50,  50,  75,  75,  75,  75,  75,  75,  75,  75,\n",
       "        75,  75,  75,  75,  75, 100, 125])"
      ]
     },
     "execution_count": 36,
     "metadata": {},
     "output_type": "execute_result"
    }
   ],
   "source": [
    "# from excel where we generate the max WTP over all time slots for each client\n",
    "df = pd.read_clipboard(header=None) \n",
    "numpyMatrix = df.as_matrix()\n",
    "wtp_student = numpyMatrix\n",
    "wtp_student = wtp_student.T # was a column in excel\n",
    "wtp_student = wtp_student[0] # array([[ 75,...,25]])\n",
    "wtp_student"
   ]
  },
  {
   "cell_type": "code",
   "execution_count": 98,
   "metadata": {
    "collapsed": false
   },
   "outputs": [
    {
     "data": {
      "text/plain": [
       "array([ 75,  50,  75,  75, 100, 100,  50, 150,  25, 125, 125,  25,  50,\n",
       "        75, 100,  50, 125, 100,  25,  75, 100,  50,  75,  50,  75,  50,\n",
       "       100,  75, 100,  75,  50,  25,  50, 125, 100,  25,  75, 100,  75,\n",
       "       100, 100,  50,  75,  75,  50,  75,  75,  50,  25, 100, 125,  50,\n",
       "       125,  75, 125,  75,  25,  75,  75,  75, 100,  25, 100, 100, 100,\n",
       "       100,  75, 100, 100,  75, 125,  75,  75,  50,  75,  75,  75, 100,\n",
       "        50, 100])"
      ]
     },
     "execution_count": 98,
     "metadata": {},
     "output_type": "execute_result"
    }
   ],
   "source": [
    "# from excel where we generate the max WTP over all time slots for each client\n",
    "df = pd.read_clipboard(header=None) \n",
    "numpyMatrix = df.as_matrix()\n",
    "wtp_nonstudent = numpyMatrix\n",
    "wtp_nonstudent = wtp_nonstudent.T # was a column in excel\n",
    "wtp_nonstudent = wtp_nonstudent[0] # array([[ 75,...,25]])\n",
    "wtp_nonstudent"
   ]
  },
  {
   "cell_type": "markdown",
   "metadata": {},
   "source": [
    "### Plot demand curves"
   ]
  },
  {
   "cell_type": "code",
   "execution_count": 112,
   "metadata": {
    "collapsed": false,
    "scrolled": false
   },
   "outputs": [],
   "source": [
    "def array_reserve(x):\n",
    "        temp=[]\n",
    "        for index in range(len(x)-1,0-1,-1):\n",
    "            temp.append(x[index])\n",
    "        return np.array(temp)\n",
    "\n",
    "def wtp_binning(data):\n",
    "    # Choose how many bins (defiend by num_bins or bin-edgs sequence inluding the rightmost)\n",
    "    seq_bins = np.arange(min(data)-1,max(data)+2,1) # +1 for range doesn't include right threshold & +1 for rightmost value set as max+1 (https://docs.scipy.org/doc/numpy-1.10.1/reference/generated/numpy.histogram.html)\n",
    "        # gap is defined as integer gap, and here one integer occurance is regarded as one bin --- bin_edges is [,) \n",
    "\n",
    "    # Use the histogram function to bin the data\n",
    "    counts, bin_edges = np.histogram(data, bins=seq_bins, normed=True)\n",
    "        # norm: If False, the result will contain the number of samples in each bin. \n",
    "            # If True, the result is the value of the probability density function at the bin, normalized such that the integral over the range is 1\n",
    "        # print(counts) #  [0.  0.24242424  0. ... 0.03030303.]   len=102\n",
    "        # print(bin_edges) # [24. 25. 26. ... 126.]    len=103\n",
    "    # print(\"original bin_counts\\n\",counts)\n",
    "\n",
    "    # Now find the reserved_cdf = 1-p(X<x)\n",
    "        # for each price p, the fraction of people who would buy at price p or higher rather than lower  \n",
    "    reserved_counts = array_reserve(counts) \n",
    "    sum_from_right = np.cumsum(reserved_counts) \n",
    "        # np.cumsum: Return the cumulative sum of the elements along a given axis. (https://docs.scipy.org/doc/numpy/reference/generated/numpy.cumsum.html)\n",
    "            # 1,2,3 -> 1,3,6\n",
    "    # print(\"sum_from_right\\n\",sum_from_right)\n",
    "\n",
    "\n",
    "    reserved_cdf = array_reserve(sum_from_right)\n",
    "    # print(\"reserved_cdf\\n\",reserved_cdf)\n",
    "\n",
    "\n",
    "    # hope the proportion to buy drops to 0 rather than 0.03\n",
    "    temp=list(reserved_cdf)\n",
    "    temp.append(0)\n",
    "    reserved_cdf_full = np.array(temp)\n",
    "    # print(reserved_cdf_full)\n",
    "    # print(len(reserved_cdf_full)) # 103\n",
    "\n",
    "    x_data = bin_edges\n",
    "    y_data = reserved_cdf_full \n",
    "    \n",
    "    result =[]\n",
    "    result.append(x_data)\n",
    "    result.append(y_data)\n",
    "    return result\n",
    "\n",
    "\n",
    "def demand_line_plot(demand_line_data,plot_name):\n",
    "    x_data= wtp_binning(demand_line_data)[0]\n",
    "    y_data= wtp_binning(demand_line_data)[1]\n",
    "    # And finally plot the demand curve\n",
    "    # line plot\n",
    "    plt.plot(x_data,y_data)\n",
    "    plt.title(plot_name)\n",
    "    plt.xlabel('Price($)')\n",
    "    plt.ylabel('Demand (%)')\n",
    "    plt.grid(True)\n",
    "    plt.show()\n",
    "\n",
    "# demand_line_plot(wtp_student,'WTP curve for student')\n",
    "# demand_line_plot(wtp_nonstudent,'WTP curve for nonstudent')"
   ]
  },
  {
   "cell_type": "code",
   "execution_count": 114,
   "metadata": {
    "collapsed": false
   },
   "outputs": [
    {
     "data": {
      "image/png": "[encoded data removed]",
      "text/plain": [
       "<matplotlib.figure.Figure at 0x11643f5c0>"
      ]
     },
     "metadata": {},
     "output_type": "display_data"
    },
    {
     "data": {
      "text/plain": [
       "[[25, 50, 75, 100, 125],\n",
       " [1.0,\n",
       "  0.75757575757575757,\n",
       "  0.45454545454545453,\n",
       "  0.060606060606060608,\n",
       "  0.030303030303030304]]"
      ]
     },
     "execution_count": 114,
     "metadata": {},
     "output_type": "execute_result"
    }
   ],
   "source": [
    "def demand_scatter_plot(demand_scatter_data,plot_name):\n",
    "    \n",
    "    reserved_cdf_full = wtp_binning(demand_scatter_data)[1]\n",
    "    bin_edges = wtp_binning(demand_scatter_data)[0]\n",
    "    \n",
    "    data = demand_scatter_data\n",
    "    # hope to get rid of influence of missing values like 26,27,... due to pricing gap \n",
    "    # - this is a special case for integer price \n",
    "\n",
    "    # use dictionary to find unique values in the data \n",
    "    # - if price is not always integer, we should compare data points and all bin_edges and see where to put that points\n",
    "    unique={}\n",
    "    for item in data:\n",
    "        if item in unique:\n",
    "            unique[item] += 1\n",
    "        else: unique[item] = 1\n",
    "\n",
    "    # use dictionary to query\n",
    "    dict={}\n",
    "    for i in range(len(reserved_cdf_full)):\n",
    "        dict[bin_edges[i]] = reserved_cdf_full[i]\n",
    "\n",
    "    x_data=[]\n",
    "    y_data=[]\n",
    "    for item in dict:\n",
    "        if item in data:\n",
    "            x_data.append(item)\n",
    "            y_data.append(dict[item] )\n",
    "\n",
    "    # scatter plot\n",
    "    plt.scatter(x_data,y_data)\n",
    "    plt.title(plot_name)\n",
    "    plt.xlabel('Price($)')\n",
    "    plt.ylabel('Demand (%)')\n",
    "    plt.grid(True)\n",
    "    plt.show()\n",
    "    \n",
    "    result=[]\n",
    "    result.append(x_data)\n",
    "    result.append(y_data)\n",
    "    return result\n",
    "    \n",
    "\n",
    "demand_scatter_plot(wtp_student,'WTP curve for student')"
   ]
  },
  {
   "cell_type": "code",
   "execution_count": 115,
   "metadata": {
    "collapsed": false
   },
   "outputs": [
    {
     "data": {
      "image/png": "[encoded data removed]",
      "text/plain": [
       "<matplotlib.figure.Figure at 0x11644ac50>"
      ]
     },
     "metadata": {},
     "output_type": "display_data"
    },
    {
     "data": {
      "text/plain": [
       "[[25, 50, 75, 100, 125, 150],\n",
       " [1.0,\n",
       "  0.90000000000000002,\n",
       "  0.71250000000000002,\n",
       "  0.375,\n",
       "  0.1125,\n",
       "  0.012500000000000001]]"
      ]
     },
     "execution_count": 115,
     "metadata": {},
     "output_type": "execute_result"
    }
   ],
   "source": [
    "demand_scatter_plot(wtp_nonstudent,'WTP curve for nonstudent')"
   ]
  },
  {
   "cell_type": "code",
   "execution_count": 105,
   "metadata": {
    "collapsed": false
   },
   "outputs": [
    {
     "data": {
      "image/png": "[encoded data removed]",
      "text/plain": [
       "<matplotlib.figure.Figure at 0x116297358>"
      ]
     },
     "metadata": {},
     "output_type": "display_data"
    },
    {
     "data": {
      "text/plain": [
       "[array([ 24,  25,  26,  27,  28,  29,  30,  31,  32,  33,  34,  35,  36,\n",
       "         37,  38,  39,  40,  41,  42,  43,  44,  45,  46,  47,  48,  49,\n",
       "         50,  51,  52,  53,  54,  55,  56,  57,  58,  59,  60,  61,  62,\n",
       "         63,  64,  65,  66,  67,  68,  69,  70,  71,  72,  73,  74,  75,\n",
       "         76,  77,  78,  79,  80,  81,  82,  83,  84,  85,  86,  87,  88,\n",
       "         89,  90,  91,  92,  93,  94,  95,  96,  97,  98,  99, 100, 101,\n",
       "        102, 103, 104, 105, 106, 107, 108, 109, 110, 111, 112, 113, 114,\n",
       "        115, 116, 117, 118, 119, 120, 121, 122, 123, 124, 125, 126]),\n",
       " array([ 1.        ,  1.        ,  0.75757576,  0.75757576,  0.75757576,\n",
       "         0.75757576,  0.75757576,  0.75757576,  0.75757576,  0.75757576,\n",
       "         0.75757576,  0.75757576,  0.75757576,  0.75757576,  0.75757576,\n",
       "         0.75757576,  0.75757576,  0.75757576,  0.75757576,  0.75757576,\n",
       "         0.75757576,  0.75757576,  0.75757576,  0.75757576,  0.75757576,\n",
       "         0.75757576,  0.75757576,  0.45454545,  0.45454545,  0.45454545,\n",
       "         0.45454545,  0.45454545,  0.45454545,  0.45454545,  0.45454545,\n",
       "         0.45454545,  0.45454545,  0.45454545,  0.45454545,  0.45454545,\n",
       "         0.45454545,  0.45454545,  0.45454545,  0.45454545,  0.45454545,\n",
       "         0.45454545,  0.45454545,  0.45454545,  0.45454545,  0.45454545,\n",
       "         0.45454545,  0.45454545,  0.06060606,  0.06060606,  0.06060606,\n",
       "         0.06060606,  0.06060606,  0.06060606,  0.06060606,  0.06060606,\n",
       "         0.06060606,  0.06060606,  0.06060606,  0.06060606,  0.06060606,\n",
       "         0.06060606,  0.06060606,  0.06060606,  0.06060606,  0.06060606,\n",
       "         0.06060606,  0.06060606,  0.06060606,  0.06060606,  0.06060606,\n",
       "         0.06060606,  0.06060606,  0.03030303,  0.03030303,  0.03030303,\n",
       "         0.03030303,  0.03030303,  0.03030303,  0.03030303,  0.03030303,\n",
       "         0.03030303,  0.03030303,  0.03030303,  0.03030303,  0.03030303,\n",
       "         0.03030303,  0.03030303,  0.03030303,  0.03030303,  0.03030303,\n",
       "         0.03030303,  0.03030303,  0.03030303,  0.03030303,  0.03030303,\n",
       "         0.03030303,  0.03030303,  0.        ])]"
      ]
     },
     "execution_count": 105,
     "metadata": {},
     "output_type": "execute_result"
    }
   ],
   "source": [
    "def revenue_cal(demand_scatter_data,plot_name):\n",
    "    \n",
    "    "
   ]
  },
  {
   "cell_type": "code",
   "execution_count": 91,
   "metadata": {
    "collapsed": false
   },
   "outputs": [
    {
     "name": "stdout",
     "output_type": "stream",
     "text": [
      "1\n",
      "3\n"
     ]
    }
   ],
   "source": []
  },
  {
   "cell_type": "code",
   "execution_count": null,
   "metadata": {
    "collapsed": true
   },
   "outputs": [],
   "source": []
  }
 ],
 "metadata": {
  "anaconda-cloud": {},
  "kernelspec": {
   "display_name": "Python [Root]",
   "language": "python",
   "name": "Python [Root]"
  },
  "language_info": {
   "codemirror_mode": {
    "name": "ipython",
    "version": 3
   },
   "file_extension": ".py",
   "mimetype": "text/x-python",
   "name": "python",
   "nbconvert_exporter": "python",
   "pygments_lexer": "ipython3",
   "version": "3.5.2"
  }
 },
 "nbformat": 4,
 "nbformat_minor": 0
}
