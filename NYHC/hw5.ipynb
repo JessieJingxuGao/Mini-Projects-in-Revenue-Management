{
 "cells": [
  {
   "cell_type": "code",
   "execution_count": 1,
   "metadata": {
    "collapsed": false
   },
   "outputs": [
    {
     "data": {
      "application/javascript": [
       "IPython.notebook.set_autosave_interval(60000)"
      ]
     },
     "metadata": {},
     "output_type": "display_data"
    },
    {
     "name": "stdout",
     "output_type": "stream",
     "text": [
      "Autosaving every 60 seconds\n"
     ]
    }
   ],
   "source": [
    "%autosave 60\n",
    "#auto save this ipynb file every 60 seconds as checkpoints\n",
    "%matplotlib inline  "
   ]
  },
  {
   "cell_type": "code",
   "execution_count": 2,
   "metadata": {
    "collapsed": true
   },
   "outputs": [],
   "source": [
    "import pandas as pd\n",
    "import numpy as np\n",
    "import matplotlib.pyplot as plt"
   ]
  },
  {
   "cell_type": "markdown",
   "metadata": {},
   "source": [
    "# The empirical demand curve for a single session"
   ]
  },
  {
   "cell_type": "markdown",
   "metadata": {},
   "source": [
    "### input WTP data for student and non-student"
   ]
  },
  {
   "cell_type": "code",
   "execution_count": 36,
   "metadata": {
    "collapsed": false
   },
   "outputs": [
    {
     "data": {
      "text/plain": [
       "array([ 25,  25,  25,  25,  25,  25,  25,  25,  50,  50,  50,  50,  50,\n",
       "        50,  50,  50,  50,  50,  75,  75,  75,  75,  75,  75,  75,  75,\n",
       "        75,  75,  75,  75,  75, 100, 125])"
      ]
     },
     "execution_count": 36,
     "metadata": {},
     "output_type": "execute_result"
    }
   ],
   "source": [
    "# from excel where we generate the max WTP over all time slots for each client\n",
    "df = pd.read_clipboard(header=None) \n",
    "numpyMatrix = df.as_matrix()\n",
    "wtp_student = numpyMatrix\n",
    "wtp_student = wtp_student.T # was a column in excel\n",
    "wtp_student = wtp_student[0] # array([[ 75,...,25]])\n",
    "wtp_student"
   ]
  },
  {
   "cell_type": "code",
   "execution_count": 20,
   "metadata": {
    "collapsed": false
   },
   "outputs": [
    {
     "data": {
      "text/plain": [
       "array([ 75,  50,  75,  75, 100, 100,  50, 150,  25, 125, 125,  25,  50,\n",
       "        75, 100,  50, 125, 100,  25,  75, 100,  50,  75,  50,  75,  50,\n",
       "       100,  75, 100,  75,  50,  25,  50, 125, 100,  25,  75, 100,  75,\n",
       "       100, 100,  50,  75,  75,  50,  75,  75,  50,  25, 100, 125,  50,\n",
       "       125,  75, 125,  75,  25,  75,  75,  75, 100,  25, 100, 100, 100,\n",
       "       100,  75, 100, 100,  75, 125,  75,  75,  50,  75,  75,  75, 100,\n",
       "        50, 100])"
      ]
     },
     "execution_count": 20,
     "metadata": {},
     "output_type": "execute_result"
    }
   ],
   "source": [
    "# from excel where we generate the max WTP over all time slots for each client\n",
    "df = pd.read_clipboard(header=None) \n",
    "numpyMatrix = df.as_matrix()\n",
    "wtp_nonstudent = numpyMatrix\n",
    "wtp_nonstudent = wtp_nonstudent.T # was a column in excel\n",
    "wtp_nonstudent = wtp_nonstudent[0] # array([[ 75,...,25]])\n",
    "wtp_nonstudent"
   ]
  },
  {
   "cell_type": "markdown",
   "metadata": {},
   "source": [
    "### Plot demand curves"
   ]
  },
  {
   "cell_type": "code",
   "execution_count": 77,
   "metadata": {
    "collapsed": false,
    "scrolled": false
   },
   "outputs": [
    {
     "data": {
      "image/png": "[encoded data removed]",
      "text/plain": [
       "<matplotlib.figure.Figure at 0x1156662e8>"
      ]
     },
     "metadata": {},
     "output_type": "display_data"
    },
    {
     "data": {
      "image/png": "[encoded data removed]",
      "text/plain": [
       "<matplotlib.figure.Figure at 0x11618d630>"
      ]
     },
     "metadata": {},
     "output_type": "display_data"
    }
   ],
   "source": [
    "data = wtp_student\n",
    "\n",
    "# Choose how many bins (defiend by num_bins or bin-edgs sequence inluding the rightmost)\n",
    "seq_bins = np.arange(min(data)-1,max(data)+2,1) # +1 for range doesn't include right threshold & +1 for rightmost value set as max+1 (https://docs.scipy.org/doc/numpy-1.10.1/reference/generated/numpy.histogram.html)\n",
    "    # every occurance (price in integer) is regarded as one bin --- bin_edges is [,) \n",
    "\n",
    "# Use the histogram function to bin the data\n",
    "counts, bin_edges = np.histogram(data, bins=seq_bins, normed=True)\n",
    "    # norm: If False, the result will contain the number of samples in each bin. \n",
    "        # If True, the result is the value of the probability density function at the bin, normalized such that the integral over the range is 1\n",
    "    # print(counts) #  [0.  0.24242424  0. ... 0.03030303.]   len=102\n",
    "    # print(bin_edges) # [24. 25. 26. ... 126.]    len=103\n",
    "# print(\"original bin_counts\\n\",counts)\n",
    "\n",
    "# Now find the reserved_cdf = 1-p(X<x)\n",
    "    # for each price p, the fraction of people who would buy at price p or higher rather than lower  \n",
    "def array_reserve(x):\n",
    "    temp=[]\n",
    "    for index in range(len(x)-1,0-1,-1):\n",
    "        temp.append(x[index])\n",
    "    return np.array(temp)\n",
    "reserved_counts = array_reserve(counts) \n",
    "sum_from_right = np.cumsum(reserved_counts) \n",
    "    # np.cumsum: Return the cumulative sum of the elements along a given axis. (https://docs.scipy.org/doc/numpy/reference/generated/numpy.cumsum.html)\n",
    "        # 1,2,3 -> 1,3,6\n",
    "# print(\"sum_from_right\\n\",sum_from_right)\n",
    "\n",
    "\n",
    "reserved_cdf = array_reserve(sum_from_right)\n",
    "# print(\"reserved_cdf\\n\",reserved_cdf)\n",
    "\n",
    "\n",
    "# hope the proportion to buy drops to 0 rather than 0.03\n",
    "temp=list(reserved_cdf)\n",
    "temp.append(0)\n",
    "reserved_cdf_full = np.array(temp)\n",
    "# print(reserved_cdf_full)\n",
    "# print(len(reserved_cdf_full)) # 103\n",
    "\n",
    "x_data = bin_edges\n",
    "y_data = reserved_cdf_full \n",
    "\n",
    "\n",
    "# And finally plot the demand curve\n",
    "\n",
    "# scatter plot\n",
    "\n",
    "plt.scatter(x_data,y_data)\n",
    "plt.title('WTP curve for student')\n",
    "plt.xlabel('Price($)')\n",
    "plt.ylabel('Demand (%)')\n",
    "plt.grid(True)\n",
    "plt.show()\n",
    "\n",
    "\n",
    "        \n",
    "# line plot\n",
    "plt.plot(x_data,y_data)\n",
    "plt.title('WTP curve for student')\n",
    "plt.xlabel('Price($)')\n",
    "plt.ylabel('Demand (%)')\n",
    "plt.grid(True)\n",
    "plt.show()\n"
   ]
  },
  {
   "cell_type": "code",
   "execution_count": 53,
   "metadata": {
    "collapsed": false
   },
   "outputs": [
    {
     "data": {
      "text/plain": [
       "101"
      ]
     },
     "execution_count": 53,
     "metadata": {},
     "output_type": "execute_result"
    }
   ],
   "source": [
    "\n",
    "\n"
   ]
  },
  {
   "cell_type": "code",
   "execution_count": 16,
   "metadata": {
    "collapsed": false
   },
   "outputs": [
    {
     "data": {
      "image/png": "[encoded data removed]",
      "text/plain": [
       "<matplotlib.figure.Figure at 0x116109be0>"
      ]
     },
     "metadata": {},
     "output_type": "display_data"
    }
   ],
   "source": [
    "\n",
    "\n",
    "    \n"
   ]
  },
  {
   "cell_type": "code",
   "execution_count": 23,
   "metadata": {
    "collapsed": false
   },
   "outputs": [
    {
     "data": {
      "text/plain": [
       "array([ 0.4,  0.3,  0.2,  0.1])"
      ]
     },
     "execution_count": 23,
     "metadata": {},
     "output_type": "execute_result"
    }
   ],
   "source": [
    "x=np.array([0.1,0.2,0.3,0.4])\n",
    "\n",
    "def array_reserve(x):\n",
    "    temp=[]\n",
    "    for index in range(len(x)-1,0-1,-1):\n",
    "        temp.append(x[index])\n",
    "    return np.array(temp)\n",
    "\n",
    "array_reserve(x)"
   ]
  },
  {
   "cell_type": "code",
   "execution_count": null,
   "metadata": {
    "collapsed": true
   },
   "outputs": [],
   "source": []
  }
 ],
 "metadata": {
  "anaconda-cloud": {},
  "kernelspec": {
   "display_name": "Python [Root]",
   "language": "python",
   "name": "Python [Root]"
  },
  "language_info": {
   "codemirror_mode": {
    "name": "ipython",
    "version": 3
   },
   "file_extension": ".py",
   "mimetype": "text/x-python",
   "name": "python",
   "nbconvert_exporter": "python",
   "pygments_lexer": "ipython3",
   "version": "3.5.2"
  }
 },
 "nbformat": 4,
 "nbformat_minor": 0
}
